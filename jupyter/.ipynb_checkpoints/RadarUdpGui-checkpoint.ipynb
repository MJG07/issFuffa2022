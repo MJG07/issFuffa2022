{
 "cells": [
  {
   "cell_type": "code",
   "execution_count": 1,
   "id": "e2fbb2ff",
   "metadata": {},
   "outputs": [
    {
     "name": "stdout",
     "output_type": "stream",
     "text": [
      "insert distance\n",
      "chiudi\n"
     ]
    }
   ],
   "source": [
    "##############################################################\n",
    "# UDP-Send a msg to RadarGui at port 8015\n",
    "##############################################################\n",
    "import socket\n",
    "import time\n",
    "\n",
    "hostAdress     = '192.168.205.58'\n",
    "port           = 8015\n",
    "msgTemplate    = msg= \"{ \\\"distance\\\" : D , \\\"angle\\\" : A }\" \n",
    "\n",
    "def console():  \n",
    "    print(\"insert distance\")\n",
    "    cmd = str(input())\n",
    "    while(cmd != \"chiudi\"):\n",
    "        msg = msgTemplate.replace(\"D\", cmd)\n",
    "        print (\"insert angle\")\n",
    "        cmd = str(input())\n",
    "        msg = msg.replace(\"A\", cmd)\n",
    "        invio(msg)\n",
    "        print(\"insert distance\")\n",
    "        cmd = str(input())\n",
    "           \n",
    "\n",
    "def invio(mes) :\n",
    "    print(\"invio del messaggio:\", mes)\n",
    "    sock = socket.socket(socket.AF_INET,socket.SOCK_DGRAM) \n",
    "    sock.sendto(mes.encode(), (hostAdress, port))            \n",
    "    \n",
    "\n",
    "console()"
   ]
  }
 ],
 "metadata": {
  "kernelspec": {
   "display_name": "Python 3 (ipykernel)",
   "language": "python",
   "name": "python3"
  },
  "language_info": {
   "codemirror_mode": {
    "name": "ipython",
    "version": 3
   },
   "file_extension": ".py",
   "mimetype": "text/x-python",
   "name": "python",
   "nbconvert_exporter": "python",
   "pygments_lexer": "ipython3",
   "version": "3.8.10"
  }
 },
 "nbformat": 4,
 "nbformat_minor": 5
}
