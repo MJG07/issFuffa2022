{
 "cells": [
  {
   "cell_type": "code",
   "execution_count": null,
   "id": "9f14a9b1",
   "metadata": {},
   "outputs": [
    {
     "name": "stdout",
     "output_type": "stream",
     "text": [
      "CONNESSIONE...\n",
      "on : accensione led\n",
      "off : spegnimento led\n",
      "esci : chiusura socket\n",
      "off\n",
      "off\n",
      "invio del messaggio: off\n",
      "on\n",
      "on\n",
      "invio del messaggio: on\n"
     ]
    }
   ],
   "source": [
    "##############################################################\n",
    "# UDP-Send a msg to Led on 8010\n",
    "##############################################################\n",
    "import socket\n",
    "import time\n",
    "\n",
    "hostAdress     = '192.168.1.93'\n",
    "port           = 8010\n",
    "ledOn          = \"on\"\n",
    "ledOff         = \"off\"\n",
    "msg            = ''\n",
    "\n",
    "def console():    \n",
    "    cmd = str(input())\n",
    "    while(cmd != \"chiudi\"):\n",
    "        if cmd==\"on\" or cmd==\"off\":\n",
    "            msg = cmd\n",
    "            print( msg )\n",
    "            invio(msg)\n",
    "            cmd = str(input())\n",
    "        else:\n",
    "            print(\"comando non valido...\")\n",
    "            cmd = str(input())\n",
    "\n",
    "def invio(mes) :\n",
    "    print(\"invio del messaggio:\", mes)\n",
    "    sock = socket.socket(socket.AF_INET,socket.SOCK_DGRAM) \n",
    "    sock.sendto(mes.encode(), (hostAdress, port))            \n",
    "    \n",
    "print(\"CONNESSIONE...\\n\"\n",
    "     \"on : accensione led\\n\"\n",
    "     \"off : spegnimento led\\n\"\n",
    "     \"esci : chiusura socket\")\n",
    "console()"
   ]
  },
  {
   "cell_type": "code",
   "execution_count": null,
   "id": "f8701db2",
   "metadata": {},
   "outputs": [],
   "source": []
  }
 ],
 "metadata": {
  "kernelspec": {
   "display_name": "Python 3 (ipykernel)",
   "language": "python",
   "name": "python3"
  },
  "language_info": {
   "codemirror_mode": {
    "name": "ipython",
    "version": 3
   },
   "file_extension": ".py",
   "mimetype": "text/x-python",
   "name": "python",
   "nbconvert_exporter": "python",
   "pygments_lexer": "ipython3",
   "version": "3.8.10"
  }
 },
 "nbformat": 4,
 "nbformat_minor": 5
}
